{
 "cells": [
  {
   "cell_type": "markdown",
   "metadata": {
    "colab": {
     "base_uri": "https://localhost:8080/"
    },
    "executionInfo": {
     "elapsed": 23573,
     "status": "ok",
     "timestamp": 1692990577392,
     "user": {
      "displayName": "ASIF KHAN",
      "userId": "01846295394444921908"
     },
     "user_tz": -330
    },
    "id": "O_xiZfJAGChG",
    "outputId": "5d06bc22-ca46-454b-ec09-4ae962647ae3"
   },
   "source": [
    "# Practical 09: Cat vs Dog classification using Convolution neural network"
   ]
  },
  {
   "cell_type": "code",
   "execution_count": null,
   "metadata": {
    "id": "UpRKC_bk6h_V"
   },
   "outputs": [],
   "source": [
    "import tensorflow as tf\n",
    "from keras.preprocessing.image import ImageDataGenerator as IDG"
   ]
  },
  {
   "cell_type": "code",
   "execution_count": null,
   "metadata": {
    "colab": {
     "base_uri": "https://localhost:8080/",
     "height": 35
    },
    "executionInfo": {
     "elapsed": 21,
     "status": "ok",
     "timestamp": 1691740130453,
     "user": {
      "displayName": "ASIF KHAN",
      "userId": "01846295394444921908"
     },
     "user_tz": -330
    },
    "id": "bAkBk23G6yvc",
    "outputId": "599400cd-8a13-4c0e-aaf4-a31dc82bfd39"
   },
   "outputs": [
    {
     "data": {
      "application/vnd.google.colaboratory.intrinsic+json": {
       "type": "string"
      },
      "text/plain": [
       "'2.12.0'"
      ]
     },
     "execution_count": 3,
     "metadata": {},
     "output_type": "execute_result"
    }
   ],
   "source": [
    "tf.__version__"
   ]
  },
  {
   "cell_type": "code",
   "execution_count": null,
   "metadata": {
    "colab": {
     "base_uri": "https://localhost:8080/"
    },
    "executionInfo": {
     "elapsed": 1167,
     "status": "ok",
     "timestamp": 1691740131603,
     "user": {
      "displayName": "ASIF KHAN",
      "userId": "01846295394444921908"
     },
     "user_tz": -330
    },
    "id": "H9pVhyId9L8i",
    "outputId": "f1d1edc7-e96f-4453-8ec3-392af3ea2524"
   },
   "outputs": [
    {
     "name": "stdout",
     "output_type": "stream",
     "text": [
      "Found 10 images belonging to 2 classes.\n"
     ]
    }
   ],
   "source": [
    "train_datagen =IDG(rescale = 1./255,\n",
    "                   shear_range = 0.2,\n",
    "                   zoom_range = 0.2,\n",
    "                   horizontal_flip=True)\n",
    "training_set = train_datagen.flow_from_directory('/content/drive/MyDrive/MSC CS/SEM 3/1. Machine Learning & Deep Learning/Practicals/11. Convolutional Neural Network (CNN)/small_dataset/training_set',\n",
    "                                            target_size = (64,64),\n",
    "                                            batch_size = 32,\n",
    "                                            class_mode = 'binary')"
   ]
  },
  {
   "cell_type": "code",
   "execution_count": null,
   "metadata": {
    "colab": {
     "base_uri": "https://localhost:8080/"
    },
    "executionInfo": {
     "elapsed": 978,
     "status": "ok",
     "timestamp": 1691740132572,
     "user": {
      "displayName": "ASIF KHAN",
      "userId": "01846295394444921908"
     },
     "user_tz": -330
    },
    "id": "E9dyXzyP-rNN",
    "outputId": "6adbfaba-fa0b-499b-8c4f-f89147cd6c58"
   },
   "outputs": [
    {
     "name": "stdout",
     "output_type": "stream",
     "text": [
      "Found 10 images belonging to 2 classes.\n"
     ]
    }
   ],
   "source": [
    "test_datagen = IDG(rescale = 1./255)\n",
    "test_set = test_datagen.flow_from_directory('/content/drive/MyDrive/MSC CS/SEM 3/1. Machine Learning & Deep Learning/Practicals/11. Convolutional Neural Network (CNN)/small_dataset/test_set',\n",
    "                                            target_size=(64,64),\n",
    "                                            batch_size=32,\n",
    "                                            class_mode = 'binary')"
   ]
  },
  {
   "cell_type": "code",
   "execution_count": null,
   "metadata": {
    "id": "srZ5-esf_UU2"
   },
   "outputs": [],
   "source": [
    "cnn = tf.keras.models.Sequential()"
   ]
  },
  {
   "cell_type": "code",
   "execution_count": null,
   "metadata": {
    "id": "BQak4zXu_gGD"
   },
   "outputs": [],
   "source": [
    "cnn.add(tf.keras.layers.Conv2D(filters = 32, kernel_size = 3, activation = 'relu', input_shape = (64,64,3)))"
   ]
  },
  {
   "cell_type": "code",
   "execution_count": null,
   "metadata": {
    "id": "0LBMvzP0AjR6"
   },
   "outputs": [],
   "source": [
    "cnn.add(tf.keras.layers.MaxPool2D(pool_size = 2, strides = 2))"
   ]
  },
  {
   "cell_type": "code",
   "execution_count": null,
   "metadata": {
    "id": "2UErS8j3BeuA"
   },
   "outputs": [],
   "source": [
    "cnn.add(tf.keras.layers.Conv2D(filters = 32, kernel_size = 3, activation = 'relu'))\n",
    "cnn.add(tf.keras.layers.MaxPool2D(pool_size = 2, strides = 2))"
   ]
  },
  {
   "cell_type": "code",
   "execution_count": null,
   "metadata": {
    "id": "2QFMRenUCftN"
   },
   "outputs": [],
   "source": [
    "cnn.add(tf.keras.layers.Flatten())"
   ]
  },
  {
   "cell_type": "code",
   "execution_count": null,
   "metadata": {
    "id": "ToaBC_QXCyJ7"
   },
   "outputs": [],
   "source": [
    "cnn.add(tf.keras.layers.Dense(units = 128, activation = 'relu'))"
   ]
  },
  {
   "cell_type": "code",
   "execution_count": null,
   "metadata": {
    "id": "cmX3cfcgC6-p"
   },
   "outputs": [],
   "source": [
    "cnn.add(tf.keras.layers.Dense(units = 1, activation = 'sigmoid'))"
   ]
  },
  {
   "cell_type": "code",
   "execution_count": null,
   "metadata": {
    "id": "w8Fz8872DFZf"
   },
   "outputs": [],
   "source": [
    "cnn.compile(optimizer = 'adam', loss = 'binary_crossentropy', metrics = ['accuracy'])"
   ]
  },
  {
   "cell_type": "code",
   "execution_count": null,
   "metadata": {
    "colab": {
     "base_uri": "https://localhost:8080/"
    },
    "executionInfo": {
     "elapsed": 14038,
     "status": "ok",
     "timestamp": 1691740146603,
     "user": {
      "displayName": "ASIF KHAN",
      "userId": "01846295394444921908"
     },
     "user_tz": -330
    },
    "id": "2zSyJWZzDYZK",
    "outputId": "db1e7ab3-4b21-4597-d819-3c67eb673cac"
   },
   "outputs": [
    {
     "name": "stdout",
     "output_type": "stream",
     "text": [
      "Epoch 1/25\n",
      "1/1 [==============================] - 4s 4s/step - loss: 0.7091 - accuracy: 0.3000 - val_loss: 0.7031 - val_accuracy: 0.5000\n",
      "Epoch 2/25\n",
      "1/1 [==============================] - 0s 146ms/step - loss: 0.6483 - accuracy: 0.5000 - val_loss: 1.0494 - val_accuracy: 0.5000\n",
      "Epoch 3/25\n",
      "1/1 [==============================] - 0s 132ms/step - loss: 0.9677 - accuracy: 0.5000 - val_loss: 0.7256 - val_accuracy: 0.5000\n",
      "Epoch 4/25\n",
      "1/1 [==============================] - 0s 138ms/step - loss: 0.5912 - accuracy: 0.6000 - val_loss: 0.7697 - val_accuracy: 0.5000\n",
      "Epoch 5/25\n",
      "1/1 [==============================] - 0s 134ms/step - loss: 0.6717 - accuracy: 0.5000 - val_loss: 0.7872 - val_accuracy: 0.5000\n",
      "Epoch 6/25\n",
      "1/1 [==============================] - 0s 151ms/step - loss: 0.6907 - accuracy: 0.5000 - val_loss: 0.7485 - val_accuracy: 0.3000\n",
      "Epoch 7/25\n",
      "1/1 [==============================] - 0s 133ms/step - loss: 0.5686 - accuracy: 0.6000 - val_loss: 0.7458 - val_accuracy: 0.4000\n",
      "Epoch 8/25\n",
      "1/1 [==============================] - 0s 138ms/step - loss: 0.5452 - accuracy: 0.9000 - val_loss: 0.7798 - val_accuracy: 0.5000\n",
      "Epoch 9/25\n",
      "1/1 [==============================] - 0s 135ms/step - loss: 0.5628 - accuracy: 0.6000 - val_loss: 0.7959 - val_accuracy: 0.5000\n",
      "Epoch 10/25\n",
      "1/1 [==============================] - 0s 136ms/step - loss: 0.5208 - accuracy: 0.8000 - val_loss: 0.7930 - val_accuracy: 0.5000\n",
      "Epoch 11/25\n",
      "1/1 [==============================] - 0s 129ms/step - loss: 0.5094 - accuracy: 0.8000 - val_loss: 0.7977 - val_accuracy: 0.3000\n",
      "Epoch 12/25\n",
      "1/1 [==============================] - 0s 135ms/step - loss: 0.4396 - accuracy: 0.9000 - val_loss: 0.8243 - val_accuracy: 0.3000\n",
      "Epoch 13/25\n",
      "1/1 [==============================] - 0s 136ms/step - loss: 0.4396 - accuracy: 0.8000 - val_loss: 0.8532 - val_accuracy: 0.3000\n",
      "Epoch 14/25\n",
      "1/1 [==============================] - 0s 131ms/step - loss: 0.3826 - accuracy: 0.8000 - val_loss: 0.8776 - val_accuracy: 0.3000\n",
      "Epoch 15/25\n",
      "1/1 [==============================] - 0s 128ms/step - loss: 0.4714 - accuracy: 0.9000 - val_loss: 0.9454 - val_accuracy: 0.7000\n",
      "Epoch 16/25\n",
      "1/1 [==============================] - 0s 156ms/step - loss: 0.3074 - accuracy: 0.9000 - val_loss: 0.9897 - val_accuracy: 0.7000\n",
      "Epoch 17/25\n",
      "1/1 [==============================] - 0s 132ms/step - loss: 0.3913 - accuracy: 0.8000 - val_loss: 1.0137 - val_accuracy: 0.4000\n",
      "Epoch 18/25\n",
      "1/1 [==============================] - 0s 136ms/step - loss: 0.2495 - accuracy: 1.0000 - val_loss: 1.0508 - val_accuracy: 0.3000\n",
      "Epoch 19/25\n",
      "1/1 [==============================] - 0s 133ms/step - loss: 0.2436 - accuracy: 1.0000 - val_loss: 1.1137 - val_accuracy: 0.3000\n",
      "Epoch 20/25\n",
      "1/1 [==============================] - 0s 135ms/step - loss: 0.2296 - accuracy: 1.0000 - val_loss: 1.1719 - val_accuracy: 0.4000\n",
      "Epoch 21/25\n",
      "1/1 [==============================] - 0s 145ms/step - loss: 0.2185 - accuracy: 1.0000 - val_loss: 1.2464 - val_accuracy: 0.4000\n",
      "Epoch 22/25\n",
      "1/1 [==============================] - 0s 136ms/step - loss: 0.2822 - accuracy: 0.9000 - val_loss: 1.3149 - val_accuracy: 0.4000\n",
      "Epoch 23/25\n",
      "1/1 [==============================] - 0s 133ms/step - loss: 0.2895 - accuracy: 0.9000 - val_loss: 1.4116 - val_accuracy: 0.4000\n",
      "Epoch 24/25\n",
      "1/1 [==============================] - 0s 135ms/step - loss: 0.2046 - accuracy: 1.0000 - val_loss: 1.4139 - val_accuracy: 0.2000\n",
      "Epoch 25/25\n",
      "1/1 [==============================] - 0s 132ms/step - loss: 0.0799 - accuracy: 1.0000 - val_loss: 1.6286 - val_accuracy: 0.3000\n"
     ]
    },
    {
     "data": {
      "text/plain": [
       "<keras.callbacks.History at 0x7929b4bd3310>"
      ]
     },
     "execution_count": 14,
     "metadata": {},
     "output_type": "execute_result"
    }
   ],
   "source": [
    "cnn.fit(x = training_set, validation_data=test_set,epochs = 25)"
   ]
  },
  {
   "cell_type": "code",
   "execution_count": null,
   "metadata": {
    "colab": {
     "base_uri": "https://localhost:8080/"
    },
    "executionInfo": {
     "elapsed": 704,
     "status": "ok",
     "timestamp": 1691740156059,
     "user": {
      "displayName": "ASIF KHAN",
      "userId": "01846295394444921908"
     },
     "user_tz": -330
    },
    "id": "ph_OlOrWDlAo",
    "outputId": "50c69c34-16a2-4cff-b7d7-1044b7457599"
   },
   "outputs": [
    {
     "name": "stdout",
     "output_type": "stream",
     "text": [
      "1/1 [==============================] - 0s 17ms/step\n"
     ]
    }
   ],
   "source": [
    "import numpy as np\n",
    "from tensorflow.keras.preprocessing import image\n",
    "test_image = image.load_img('/content/drive/MyDrive/MSC CS/SEM 3/1. Machine Learning & Deep Learning/Practicals/11. Convolutional Neural Network (CNN)/small_dataset/single_prediction/cat_or_dog_2.jpg', target_size = (64,64))\n",
    "test_image = image.img_to_array(test_image)\n",
    "test_image = np.expand_dims(test_image,axis = 0)\n",
    "result = cnn.predict(test_image)\n",
    "training_set.class_indices\n",
    "if result[0][0] == 1:\n",
    "  prediction = \"Dog\"\n",
    "else:\n",
    "  prediction = \"Cat\""
   ]
  },
  {
   "cell_type": "code",
   "execution_count": null,
   "metadata": {
    "colab": {
     "base_uri": "https://localhost:8080/"
    },
    "executionInfo": {
     "elapsed": 419,
     "status": "ok",
     "timestamp": 1691740158396,
     "user": {
      "displayName": "ASIF KHAN",
      "userId": "01846295394444921908"
     },
     "user_tz": -330
    },
    "id": "BBUbPb8MEzzC",
    "outputId": "498ee369-38f6-4d23-adfa-77012fbca4ae"
   },
   "outputs": [
    {
     "name": "stdout",
     "output_type": "stream",
     "text": [
      "Cat\n"
     ]
    }
   ],
   "source": [
    "print(prediction)"
   ]
  }
 ],
 "metadata": {
  "colab": {
   "provenance": []
  },
  "kernelspec": {
   "display_name": "Python 3 (ipykernel)",
   "language": "python",
   "name": "python3"
  },
  "language_info": {
   "codemirror_mode": {
    "name": "ipython",
    "version": 3
   },
   "file_extension": ".py",
   "mimetype": "text/x-python",
   "name": "python",
   "nbconvert_exporter": "python",
   "pygments_lexer": "ipython3",
   "version": "3.9.7"
  }
 },
 "nbformat": 4,
 "nbformat_minor": 4
}
