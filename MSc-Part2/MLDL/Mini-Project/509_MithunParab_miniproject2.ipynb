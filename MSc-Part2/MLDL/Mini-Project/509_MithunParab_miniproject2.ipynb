{
  "cells": [
    {
      "metadata": {
        "id": "PNhVeS-vNyhK"
      },
      "cell_type": "markdown",
      "source": [
        "# Mini-Project: Handwritten digit classifier using logistic regression.\n",
        "\n",
        "In this mini project we're going to implement from scratch a one-vs-all logistic regression classifier for the MNIST digits dataset with a neural network mindset. The neural network aspect of this implementation is the use of a forward and backward propagation to claculate the value of the cost function and the partial derivatives of the cost function with respect to weights and the bias."
      ]
    },
    {
      "metadata": {
        "id": "xn53cybXNyhK"
      },
      "cell_type": "markdown",
      "source": [
        "In this notebook, we'll recognizing the handwritten digits (0 to 9) using the famous digits data set from Scikit-Learn, using a classifier called Logistic Regression."
      ]
    },
    {
      "metadata": {
        "id": "o8oP6tPINyhL"
      },
      "cell_type": "markdown",
      "source": [
        "## Importing Library"
      ]
    },
    {
      "metadata": {
        "trusted": true,
        "id": "LuR_14VANyhL"
      },
      "cell_type": "code",
      "source": [
        "%matplotlib inline\n",
        "\n",
        "import numpy as np\n",
        "import matplotlib.pyplot as plt\n",
        "import pandas as pd\n",
        "from sklearn.datasets import fetch_openml\n",
        "from sklearn.model_selection import train_test_split\n",
        "from sklearn.linear_model import LogisticRegression\n",
        "from sklearn import metrics"
      ],
      "execution_count": null,
      "outputs": []
    },
    {
      "metadata": {
        "id": "Jpc-al4sNyhN"
      },
      "cell_type": "markdown",
      "source": [
        "## Dataset from openml"
      ]
    },
    {
      "metadata": {
        "id": "GGHaVp47NyhN"
      },
      "cell_type": "markdown",
      "source": [
        "The **MNIST** database is a set of 70000 samples of handwritten digits where each sample consists of a grayscale image of size 28×28. There are a total of 70,000 samples. Dataset is available on many online platform or we can use dataset directly from openml from **sklearn.datasets** library."
      ]
    },
    {
      "metadata": {
        "trusted": true,
        "id": "b60k9J2rNyhO"
      },
      "cell_type": "code",
      "source": [
        "mnist = fetch_openml('mnist_784')"
      ],
      "execution_count": null,
      "outputs": []
    },
    {
      "metadata": {
        "trusted": true,
        "id": "7oCKQRm9NyhO",
        "outputId": "5632f82c-6c29-44ce-8383-5e54ffd63187"
      },
      "cell_type": "code",
      "source": [
        "mnist.data[:5]"
      ],
      "execution_count": null,
      "outputs": [
        {
          "output_type": "execute_result",
          "execution_count": 15,
          "data": {
            "text/plain": "array([[0., 0., 0., ..., 0., 0., 0.],\n       [0., 0., 0., ..., 0., 0., 0.],\n       [0., 0., 0., ..., 0., 0., 0.],\n       [0., 0., 0., ..., 0., 0., 0.],\n       [0., 0., 0., ..., 0., 0., 0.]])"
          },
          "metadata": {}
        }
      ]
    },
    {
      "metadata": {
        "trusted": true,
        "id": "ClFs6hF9NyhP",
        "outputId": "5d6292b5-ab52-4720-b372-5c9fffec3f6b"
      },
      "cell_type": "code",
      "source": [
        "mnist.target[:5]"
      ],
      "execution_count": null,
      "outputs": [
        {
          "output_type": "execute_result",
          "execution_count": 16,
          "data": {
            "text/plain": "array(['5', '0', '4', '1', '9'], dtype=object)"
          },
          "metadata": {}
        }
      ]
    },
    {
      "metadata": {
        "id": "JavOLKZtNyhP"
      },
      "cell_type": "markdown",
      "source": [
        "## Plotting actual label using matplotlib"
      ]
    },
    {
      "metadata": {
        "trusted": true,
        "id": "nazE6aCrNyhQ",
        "outputId": "5ed77a44-ac38-474d-b9f4-c9f725d7084d"
      },
      "cell_type": "code",
      "source": [
        "plt.figure(figsize=(20,5))\n",
        "for index, (image,label) in enumerate(zip(mnist.data[:6], mnist.target[:6])):\n",
        "    plt.subplot(1, 6, index+1)\n",
        "    plt.imshow(np.reshape(image, (28,28)), cmap=\"gray\")\n",
        "    plt.title(\"Actual No.%s\" % label)"
      ],
      "execution_count": null,
      "outputs": [
        {
          "output_type": "display_data",
          "data": {
            "text/plain": "<Figure size 1440x360 with 6 Axes>",
            "image/png": "[encoded data removed]"
          },
          "metadata": {
            "needs_background": "light"
          }
        }
      ]
    },
    {
      "metadata": {
        "id": "kPND9q7gNyhQ"
      },
      "cell_type": "markdown",
      "source": [
        "## Splitting data into train and test measuring prediction score"
      ]
    },
    {
      "metadata": {
        "trusted": true,
        "id": "SNIh6yTSNyhQ"
      },
      "cell_type": "code",
      "source": [
        "X_train, X_test, y_train, y_test = train_test_split(mnist.data, mnist.target, test_size=0.2)"
      ],
      "execution_count": null,
      "outputs": []
    },
    {
      "metadata": {
        "trusted": true,
        "_kg_hide-output": true,
        "id": "0wkFFeiLNyhR",
        "outputId": "6575fd4a-a810-4bd7-bc40-a4ade308a777"
      },
      "cell_type": "code",
      "source": [
        "mdl = LogisticRegression(solver=\"lbfgs\",max_iter=126)\n",
        "mdl.fit(X_train,y_train)\n",
        "prediction = mdl.predict(X_test)\n",
        "score = mdl.score(X_test, y_test)\n",
        "print(score)"
      ],
      "execution_count": null,
      "outputs": [
        {
          "output_type": "stream",
          "text": "0.9192142857142858\n",
          "name": "stdout"
        },
        {
          "output_type": "stream",
          "text": "/opt/conda/lib/python3.7/site-packages/sklearn/linear_model/_logistic.py:764: ConvergenceWarning: lbfgs failed to converge (status=1):\nSTOP: TOTAL NO. of ITERATIONS REACHED LIMIT.\n\nIncrease the number of iterations (max_iter) or scale the data as shown in:\n    https://scikit-learn.org/stable/modules/preprocessing.html\nPlease also refer to the documentation for alternative solver options:\n    https://scikit-learn.org/stable/modules/linear_model.html#logistic-regression\n  extra_warning_msg=_LOGISTIC_SOLVER_CONVERGENCE_MSG)\n",
          "name": "stderr"
        }
      ]
    },
    {
      "metadata": {
        "trusted": true,
        "id": "TkkW2EtNNyhR",
        "outputId": "ebc94a54-4c33-485a-eab8-f94113022b00"
      },
      "cell_type": "code",
      "source": [
        "print(\"Accurcay is :\",round(score,2)*100,\"%\")"
      ],
      "execution_count": null,
      "outputs": [
        {
          "output_type": "stream",
          "text": "Accurcay is : 92.0 %\n",
          "name": "stdout"
        }
      ]
    },
    {
      "metadata": {
        "trusted": true,
        "id": "UAiOvhJZNyhS",
        "outputId": "ad18e815-7089-412e-b3da-bd6ff0261a96"
      },
      "cell_type": "code",
      "source": [
        "index = 3\n",
        "plt.imshow(np.reshape(X_test[index],(28,28)), cmap = \"gray\")\n",
        "print(\"prediction: \" + mdl.predict([X_test[index]])[0])"
      ],
      "execution_count": null,
      "outputs": [
        {
          "output_type": "stream",
          "text": "prediction: 0\n",
          "name": "stdout"
        },
        {
          "output_type": "display_data",
          "data": {
            "text/plain": "<Figure size 432x288 with 1 Axes>",
            "image/png": "[encoded data removed]"
          },
          "metadata": {
            "needs_background": "light"
          }
        }
      ]
    },
    {
      "metadata": {
        "id": "K3zrvgdjNyhS"
      },
      "cell_type": "markdown",
      "source": [
        "## Confusion matrix value and visualization"
      ]
    },
    {
      "metadata": {
        "trusted": true,
        "id": "v7871Vl-NyhS",
        "outputId": "55aab042-6b13-4d8a-e76d-2aa0c54360d7"
      },
      "cell_type": "code",
      "source": [
        "cm = metrics.confusion_matrix(y_test,prediction)\n",
        "cm"
      ],
      "execution_count": null,
      "outputs": [
        {
          "output_type": "execute_result",
          "execution_count": 23,
          "data": {
            "text/plain": "array([[1307,    0,   10,    2,    7,    7,    5,    5,    9,    4],\n       [   0, 1619,    5,    6,    1,    5,    2,    3,   13,    1],\n       [   5,   11, 1282,   30,   11,    3,   24,   12,   32,    8],\n       [   3,   10,   43, 1213,    2,   55,    3,   12,   37,   14],\n       [   4,    4,    8,    1, 1287,    2,   14,   10,    8,   40],\n       [  12,    6,   13,   53,   13, 1083,   23,    4,   45,   11],\n       [   6,    3,   13,    0,   10,   24, 1301,    0,    3,    0],\n       [   5,    4,   17,    8,   15,    4,    0, 1343,    7,   41],\n       [   6,   32,   14,   36,    2,   36,   11,    3, 1181,   23],\n       [   7,    9,    3,   18,   37,    7,    0,   45,   11, 1253]])"
          },
          "metadata": {}
        }
      ]
    },
    {
      "metadata": {
        "trusted": true,
        "id": "Bsr9OOB_NyhT",
        "outputId": "6671645a-e219-4e0c-c468-85245e0faa1d"
      },
      "cell_type": "code",
      "source": [
        "plt.figure(figsize=(8,8))\n",
        "plt.imshow(cm, cmap=\"Set2\")\n",
        "\n",
        "plt.xticks(np.arange(10))\n",
        "plt.yticks(np.arange(10))\n",
        "\n",
        "plt.xlabel(\"Predicted Data\")\n",
        "plt.ylabel(\"Actual Data\")\n",
        "plt.colorbar()\n",
        "\n",
        "plt.title(\"Confusion Matrix of Mnist Data\")\n",
        "\n",
        "width, height = cm.shape\n",
        "for x in range(width):\n",
        "    for y in range(height):\n",
        "        plt.annotate(str(cm[x][y]), xy=(y,x), horizontalalignment='center',verticalalignment='center')"
      ],
      "execution_count": null,
      "outputs": [
        {
          "output_type": "display_data",
          "data": {
            "text/plain": "<Figure size 576x576 with 2 Axes>",
            "image/png": "[encoded data removed]"
          },
          "metadata": {
            "needs_background": "light"
          }
        }
      ]
    }
  ],
  "metadata": {
    "kernelspec": {
      "name": "python3",
      "display_name": "Python 3",
      "language": "python"
    },
    "language_info": {
      "name": "python",
      "version": "3.7.6",
      "mimetype": "text/x-python",
      "codemirror_mode": {
        "name": "ipython",
        "version": 3
      },
      "pygments_lexer": "ipython3",
      "nbconvert_exporter": "python",
      "file_extension": ".py"
    },
    "colab": {
      "provenance": []
    }
  },
  "nbformat": 4,
  "nbformat_minor": 0
}